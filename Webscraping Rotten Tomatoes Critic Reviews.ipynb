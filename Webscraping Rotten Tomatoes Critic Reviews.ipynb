{
 "cells": [
  {
   "cell_type": "code",
   "execution_count": 1,
   "metadata": {
    "collapsed": true
   },
   "outputs": [],
   "source": [
    "from urllib2 import urlopen\n",
    "from urllib2 import HTTPError, URLError\n",
    "import re\n",
    "import urllib2\n",
    "from bs4 import BeautifulSoup\n",
    "from time import sleep\n",
    "import unicodecsv as csv\n",
    "import os\n",
    "import random"
   ]
  },
  {
   "cell_type": "code",
   "execution_count": 2,
   "metadata": {
    "collapsed": true
   },
   "outputs": [],
   "source": [
    "def make_soup(url):\n",
    "    hdr = {\"User-Agent\": \"Mozilla/5.0\"}\n",
    "    return BeautifulSoup(urllib2.urlopen(urllib2.Request(url,headers=hdr)).read(),'lxml')"
   ]
  },
  {
   "cell_type": "code",
   "execution_count": 31,
   "metadata": {
    "collapsed": true
   },
   "outputs": [],
   "source": [
    "def get_review(url,startID):\n",
    "    soup = make_soup(url)\n",
    "    divtable = soup.find(\"div\", class_ = \"review_table\")\n",
    "    reviewlist = divtable.find_all(\"div\", class_ = \"row review_table_row\")\n",
    "    completereviewdict = {}\n",
    "    for x in reviewlist: \n",
    "        completereviewdict[str(startID)] = {}\n",
    "        leftcolumn = x.find(\"div\", class_ = \"col-sm-13 col-xs-24 col-sm-pull-4 critic_name\")\n",
    "        critic = leftcolumn.find(\"a\", class_ = \"unstyled bold articleLink\").get_text()\n",
    "        journal = leftcolumn.find(\"a\", class_ = \"subtle\").get_text()\n",
    "        rightcolumn = x.find(\"div\", class_ = \"col-xs-16 review_container\")\n",
    "        date = rightcolumn.find(\"span\", class_ = \"review_date subtle small\").get_text() \n",
    "        # need to add a if else loop for fresh/rotten icons. . . if \"review_icon icon small fresh\" - return \"Fresh\" \n",
    "        criticreviewdesc = rightcolumn.find(\"div\", class_ = \"the_review\").get_text().strip()\n",
    "        reviewdict = {\"Critic\":critic, \"Journal\": journal, \"Date\":date, \"Critic Review Description\":criticreviewdesc}\n",
    "        completereviewdict[str(startID)].update(reviewdict)\n",
    "        startID += 1\n",
    "    return completereviewdict   "
   ]
  },
  {
   "cell_type": "code",
   "execution_count": 32,
   "metadata": {},
   "outputs": [
    {
     "ename": "AttributeError",
     "evalue": "'NoneType' object has no attribute 'find'",
     "output_type": "error",
     "traceback": [
      "\u001b[0;31m---------------------------------------------------------------------------\u001b[0m",
      "\u001b[0;31mAttributeError\u001b[0m                            Traceback (most recent call last)",
      "\u001b[0;32m<ipython-input-32-2d3e9d7b92e4>\u001b[0m in \u001b[0;36m<module>\u001b[0;34m()\u001b[0m\n\u001b[1;32m      3\u001b[0m     \u001b[0murl\u001b[0m \u001b[0;34m=\u001b[0m \u001b[0;34m\"https://www.rottentomatoes.com/m/redacted/reviews/?sort=\"\u001b[0m\u001b[0;34m+\u001b[0m\u001b[0mstr\u001b[0m\u001b[0;34m(\u001b[0m\u001b[0mx\u001b[0m\u001b[0;34m)\u001b[0m\u001b[0;34m+\u001b[0m\u001b[0;34m\"&type=user\"\u001b[0m \u001b[0;31m# Change movie url accordingly\u001b[0m\u001b[0;34m\u001b[0m\u001b[0m\n\u001b[1;32m      4\u001b[0m     \u001b[0mpageStartID\u001b[0m \u001b[0;34m=\u001b[0m \u001b[0;34m(\u001b[0m\u001b[0mx\u001b[0m\u001b[0;34m-\u001b[0m\u001b[0;36m1\u001b[0m\u001b[0;34m)\u001b[0m\u001b[0;34m*\u001b[0m\u001b[0;36m20\u001b[0m \u001b[0;34m+\u001b[0m \u001b[0;36m1\u001b[0m\u001b[0;34m\u001b[0m\u001b[0m\n\u001b[0;32m----> 5\u001b[0;31m     \u001b[0monePageDict\u001b[0m \u001b[0;34m=\u001b[0m \u001b[0mget_review\u001b[0m\u001b[0;34m(\u001b[0m\u001b[0murl\u001b[0m\u001b[0;34m,\u001b[0m\u001b[0mpageStartID\u001b[0m\u001b[0;34m)\u001b[0m\u001b[0;34m\u001b[0m\u001b[0m\n\u001b[0m\u001b[1;32m      6\u001b[0m     \u001b[0mbigdict\u001b[0m\u001b[0;34m.\u001b[0m\u001b[0mupdate\u001b[0m\u001b[0;34m(\u001b[0m\u001b[0monePageDict\u001b[0m\u001b[0;34m)\u001b[0m\u001b[0;34m\u001b[0m\u001b[0m\n\u001b[1;32m      7\u001b[0m     \u001b[0mrdtime\u001b[0m \u001b[0;34m=\u001b[0m \u001b[0mrandom\u001b[0m\u001b[0;34m.\u001b[0m\u001b[0muniform\u001b[0m\u001b[0;34m(\u001b[0m\u001b[0;36m0.5\u001b[0m\u001b[0;34m,\u001b[0m\u001b[0;36m2\u001b[0m\u001b[0;34m)\u001b[0m\u001b[0;34m\u001b[0m\u001b[0m\n",
      "\u001b[0;32m<ipython-input-31-87a04f86c146>\u001b[0m in \u001b[0;36mget_review\u001b[0;34m(url, startID)\u001b[0m\n\u001b[1;32m      7\u001b[0m         \u001b[0mcompletereviewdict\u001b[0m\u001b[0;34m[\u001b[0m\u001b[0mstr\u001b[0m\u001b[0;34m(\u001b[0m\u001b[0mstartID\u001b[0m\u001b[0;34m)\u001b[0m\u001b[0;34m]\u001b[0m \u001b[0;34m=\u001b[0m \u001b[0;34m{\u001b[0m\u001b[0;34m}\u001b[0m\u001b[0;34m\u001b[0m\u001b[0m\n\u001b[1;32m      8\u001b[0m         \u001b[0mleftcolumn\u001b[0m \u001b[0;34m=\u001b[0m \u001b[0mx\u001b[0m\u001b[0;34m.\u001b[0m\u001b[0mfind\u001b[0m\u001b[0;34m(\u001b[0m\u001b[0;34m\"div\"\u001b[0m\u001b[0;34m,\u001b[0m \u001b[0mclass_\u001b[0m \u001b[0;34m=\u001b[0m \u001b[0;34m\"col-sm-13 col-xs-24 col-sm-pull-4 critic_name\"\u001b[0m\u001b[0;34m)\u001b[0m\u001b[0;34m\u001b[0m\u001b[0m\n\u001b[0;32m----> 9\u001b[0;31m         \u001b[0mcritic\u001b[0m \u001b[0;34m=\u001b[0m \u001b[0mleftcolumn\u001b[0m\u001b[0;34m.\u001b[0m\u001b[0mfind\u001b[0m\u001b[0;34m(\u001b[0m\u001b[0;34m\"a\"\u001b[0m\u001b[0;34m,\u001b[0m \u001b[0mclass_\u001b[0m \u001b[0;34m=\u001b[0m \u001b[0;34m\"unstyled bold articleLink\"\u001b[0m\u001b[0;34m)\u001b[0m\u001b[0;34m.\u001b[0m\u001b[0mget_text\u001b[0m\u001b[0;34m(\u001b[0m\u001b[0;34m)\u001b[0m\u001b[0;34m\u001b[0m\u001b[0m\n\u001b[0m\u001b[1;32m     10\u001b[0m         \u001b[0mjournal\u001b[0m \u001b[0;34m=\u001b[0m \u001b[0mleftcolumn\u001b[0m\u001b[0;34m.\u001b[0m\u001b[0mfind\u001b[0m\u001b[0;34m(\u001b[0m\u001b[0;34m\"a\"\u001b[0m\u001b[0;34m,\u001b[0m \u001b[0mclass_\u001b[0m \u001b[0;34m=\u001b[0m \u001b[0;34m\"subtle\"\u001b[0m\u001b[0;34m)\u001b[0m\u001b[0;34m.\u001b[0m\u001b[0mget_text\u001b[0m\u001b[0;34m(\u001b[0m\u001b[0;34m)\u001b[0m\u001b[0;34m\u001b[0m\u001b[0m\n\u001b[1;32m     11\u001b[0m         \u001b[0mrightcolumn\u001b[0m \u001b[0;34m=\u001b[0m \u001b[0mx\u001b[0m\u001b[0;34m.\u001b[0m\u001b[0mfind\u001b[0m\u001b[0;34m(\u001b[0m\u001b[0;34m\"div\"\u001b[0m\u001b[0;34m,\u001b[0m \u001b[0mclass_\u001b[0m \u001b[0;34m=\u001b[0m \u001b[0;34m\"col-xs-16 review_container\"\u001b[0m\u001b[0;34m)\u001b[0m\u001b[0;34m\u001b[0m\u001b[0m\n",
      "\u001b[0;31mAttributeError\u001b[0m: 'NoneType' object has no attribute 'find'"
     ]
    }
   ],
   "source": [
    "bigdict = {}\n",
    "for x in range(11,100): # Change ending index (exclusive) accordingly\n",
    "    url = \"https://www.rottentomatoes.com/m/redacted/reviews/?sort=\"+str(x)+\"&type=user\" # Change movie url accordingly\n",
    "    pageStartID = (x-1)*20 + 1\n",
    "    onePageDict = get_review(url,pageStartID)\n",
    "    bigdict.update(onePageDict)\n",
    "    rdtime = random.uniform(0.5,2)\n",
    "    sleep(rdtime)"
   ]
  },
  {
   "cell_type": "code",
   "execution_count": null,
   "metadata": {
    "collapsed": true
   },
   "outputs": [],
   "source": [
    "len(bigdict) # Check how many reviews were scraped."
   ]
  },
  {
   "cell_type": "code",
   "execution_count": null,
   "metadata": {
    "collapsed": true
   },
   "outputs": [],
   "source": [
    "os.chdir(\"/Users/tuh48546/Desktop/Critic Reviews/\") # Change directory accordingly"
   ]
  },
  {
   "cell_type": "code",
   "execution_count": null,
   "metadata": {
    "collapsed": true
   },
   "outputs": [],
   "source": [
    "with open(\"Redacted_1To100_Mar04.csv\", \"w\") as toWrite: # Change file name accordingly\n",
    "    writer = csv.writer(toWrite, delimiter=',')\n",
    "    writer.writerow([\"Review ID\", \"Date\", \"Journal\",\n",
    "    \"Critic\", 'Critic Review Description'])\n",
    "    for a in bigdict.keys():\n",
    "        try:\n",
    "            writer.writerow([a,\n",
    "                            bigdict[a][\"Date\"].encode('utf-8'),\n",
    "                            bigdict[a][\"Journal\"].encode('utf-8'),\n",
    "                            bigdict[a][\"Critic\"].encode('utf-8'),\n",
    "                            bigdict[a][\"Critic Review Description\"].encode('utf-8')])\n",
    "        except UnicodeDecodeError as detail:\n",
    "            print 'UnicodeDecodeError'\n",
    "            print a\n",
    "            print detail\n",
    "            continue\n",
    "        except AttributeError as detail:\n",
    "            print 'AttributeError'\n",
    "            print a\n",
    "            print detail\n",
    "            continue\n",
    "print 'Done writing file.'"
   ]
  },
  {
   "cell_type": "code",
   "execution_count": null,
   "metadata": {
    "collapsed": true
   },
   "outputs": [],
   "source": []
  }
 ],
 "metadata": {
  "kernelspec": {
   "display_name": "Python 2",
   "language": "python",
   "name": "python2"
  },
  "language_info": {
   "codemirror_mode": {
    "name": "ipython",
    "version": 2
   },
   "file_extension": ".py",
   "mimetype": "text/x-python",
   "name": "python",
   "nbconvert_exporter": "python",
   "pygments_lexer": "ipython2",
   "version": "2.7.13"
  }
 },
 "nbformat": 4,
 "nbformat_minor": 2
}
